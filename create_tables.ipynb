{
 "cells": [
  {
   "cell_type": "code",
   "execution_count": 7,
   "metadata": {},
   "outputs": [
    {
     "name": "stdout",
     "output_type": "stream",
     "text": [
      "['custody_id', 'participant_age_group', 'participant_gender', 'participant_status', 'participant_type', 'latitude', 'longitude', 'gun_stolen', 'gun_type', 'incident_id', 'date_fk']\n"
     ]
    }
   ],
   "source": [
    "from functions_create_table import *\n",
    "data = []\n",
    "\n",
    "with open('DATA//Police.csv', 'r') as f:\n",
    "    reader = csv.reader(f)\n",
    "    for row in reader:\n",
    "        data.append(row)\n",
    "\n",
    "print(data[0])"
   ]
  },
  {
   "cell_type": "code",
   "execution_count": 8,
   "metadata": {},
   "outputs": [
    {
     "name": "stdout",
     "output_type": "stream",
     "text": [
      "['custody_id', 'participant_age_group', 'participant_gender', 'participant_status', 'participant_type', 'latitude', 'longitude', 'gun_stolen', 'gun_type', 'incident_id', 'date_fk', 'crime_gravity']\n",
      "['10', 'Adult 18+', 'Male', 'Arrested', 'Suspect', '41.4455', '-82.1377', 'Stolen', 'Shotgun', '2', '0', 2]\n"
     ]
    }
   ],
   "source": [
    "add_crime_gravity(data)\n",
    "print(data[0])\n",
    "print(data[1])"
   ]
  },
  {
   "cell_type": "code",
   "execution_count": 9,
   "metadata": {},
   "outputs": [],
   "source": [
    "# Create the geograpy table \n",
    "data, geography = add_unique_ids_2(data, [\"latitude\", \"longitude\"], \"geo_id\", \"DATA/NEW_TAB/geography.csv\")"
   ]
  },
  {
   "cell_type": "code",
   "execution_count": 10,
   "metadata": {},
   "outputs": [],
   "source": [
    "# Create the gun table\n",
    "data, gun = add_unique_ids_2(data, ['gun_stolen','gun_type'], \"gun_id\", \"DATA/NEW_TAB/gun.csv\")"
   ]
  },
  {
   "cell_type": "code",
   "execution_count": 11,
   "metadata": {},
   "outputs": [],
   "source": [
    "# Create the Partecipant table\n",
    "data, partecipant = add_unique_ids_2(data, ['participant_age_group', 'participant_gender',\n",
    "                                          'participant_status','participant_type',],\n",
    "                                            \"partecipant_id\", \"DATA/NEW_TAB/partecipant.csv\")"
   ]
  },
  {
   "cell_type": "code",
   "execution_count": 12,
   "metadata": {},
   "outputs": [],
   "source": [
    "write_to_csv(data, \"DATA/NEW_TAB/custody.csv\")"
   ]
  }
 ],
 "metadata": {
  "kernelspec": {
   "display_name": "Python 3",
   "language": "python",
   "name": "python3"
  },
  "language_info": {
   "codemirror_mode": {
    "name": "ipython",
    "version": 3
   },
   "file_extension": ".py",
   "mimetype": "text/x-python",
   "name": "python",
   "nbconvert_exporter": "python",
   "pygments_lexer": "ipython3",
   "version": "3.10.7"
  }
 },
 "nbformat": 4,
 "nbformat_minor": 2
}
